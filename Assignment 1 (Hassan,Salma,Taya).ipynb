{
 "cells":[
  {
   "cell_type":"markdown",
   "source":[
    "##                                             Employees Records In A Company\n",
    "In this notebook, we will be analyzing a dataset we found on Kaggle that contains many data on employees in a company. There are 22 columns in the chosen dataset, some of which are continuous variables and some are discrete. Below, there are several commands we used to summarize and describe the data. We started by displaying the dataset, the column names, and then we conducted the numerical summaries of all numerical variables. Afterwards, we found it is essential for us to conduct the correlations between a few of the variables that we believe are related, so that we can compare them and determine if there is a relation between any of them. We described the discrete variables by computing their frequency and percentage, and we also computed contingency tables. Lastly, there are various graphs to elaborate our examination of the data. "
   ],
   "attachments":{
    
   },
   "metadata":{
    "datalore":{
     "type":"MD",
     "hide_input_from_viewers":false,
     "hide_output_from_viewers":false
    }
   }
  },
  {
   "cell_type":"code",
   "source":[
    "import pandas as pd \n",
    "df=pd.read_csv(\"Dataset.csv\")\n",
    "df "
   ],
   "execution_count":63,
   "outputs":[
    {
     "data":{
      "text\/html":[
       "<div>\n",
       "<style scoped>\n",
       "    .dataframe tbody tr th:only-of-type {\n",
       "        vertical-align: middle;\n",
       "    }\n",
       "\n",
       "    .dataframe tbody tr th {\n",
       "        vertical-align: top;\n",
       "    }\n",
       "\n",
       "    .dataframe thead th {\n",
       "        text-align: right;\n",
       "    }\n",
       "<\/style>\n",
       "<table border=\"1\" class=\"dataframe\">\n",
       "  <thead>\n",
       "    <tr style=\"text-align: right;\">\n",
       "      <th><\/th>\n",
       "      <th>Sex<\/th>\n",
       "      <th>Status<\/th>\n",
       "      <th>Ncount Employeess<\/th>\n",
       "      <th>Rate\/Day<\/th>\n",
       "      <th>Rate\/hour<\/th>\n",
       "      <th>Salary<\/th>\n",
       "      <th>Income Rate<\/th>\n",
       "      <th>Salary Inc. Percentage<\/th>\n",
       "      <th>Distance from home<\/th>\n",
       "      <th>Learning level<\/th>\n",
       "      <th>...<\/th>\n",
       "      <th>JobSatisfaction<\/th>\n",
       "      <th>No. of previous works<\/th>\n",
       "      <th>Spend Overtime<\/th>\n",
       "      <th>Rating of performance<\/th>\n",
       "      <th>StandardHours<\/th>\n",
       "      <th>StockOptionLevel<\/th>\n",
       "      <th>YearsWorkedTotal<\/th>\n",
       "      <th>TimesTrained<\/th>\n",
       "      <th>YearsSpentAtWork<\/th>\n",
       "      <th>YearsInCurrentJob<\/th>\n",
       "    <\/tr>\n",
       "  <\/thead>\n",
       "  <tbody>\n",
       "    <tr>\n",
       "      <th>0<\/th>\n",
       "      <td>Male<\/td>\n",
       "      <td>Married<\/td>\n",
       "      <td>454<\/td>\n",
       "      <td>318<\/td>\n",
       "      <td>77<\/td>\n",
       "      <td>2119<\/td>\n",
       "      <td>4759<\/td>\n",
       "      <td>11<\/td>\n",
       "      <td>8<\/td>\n",
       "      <td>4<\/td>\n",
       "      <td>...<\/td>\n",
       "      <td>1<\/td>\n",
       "      <td>1<\/td>\n",
       "      <td>Yes<\/td>\n",
       "      <td>3<\/td>\n",
       "      <td>80<\/td>\n",
       "      <td>0<\/td>\n",
       "      <td>7<\/td>\n",
       "      <td>4<\/td>\n",
       "      <td>7<\/td>\n",
       "      <td>7<\/td>\n",
       "    <\/tr>\n",
       "    <tr>\n",
       "      <th>1<\/th>\n",
       "      <td>Male<\/td>\n",
       "      <td>Single<\/td>\n",
       "      <td>455<\/td>\n",
       "      <td>738<\/td>\n",
       "      <td>30<\/td>\n",
       "      <td>3983<\/td>\n",
       "      <td>7621<\/td>\n",
       "      <td>17<\/td>\n",
       "      <td>9<\/td>\n",
       "      <td>5<\/td>\n",
       "      <td>...<\/td>\n",
       "      <td>4<\/td>\n",
       "      <td>0<\/td>\n",
       "      <td>No<\/td>\n",
       "      <td>3<\/td>\n",
       "      <td>80<\/td>\n",
       "      <td>0<\/td>\n",
       "      <td>4<\/td>\n",
       "      <td>2<\/td>\n",
       "      <td>3<\/td>\n",
       "      <td>2<\/td>\n",
       "    <\/tr>\n",
       "    <tr>\n",
       "      <th>2<\/th>\n",
       "      <td>Female<\/td>\n",
       "      <td>Divorced<\/td>\n",
       "      <td>456<\/td>\n",
       "      <td>570<\/td>\n",
       "      <td>30<\/td>\n",
       "      <td>6118<\/td>\n",
       "      <td>5431<\/td>\n",
       "      <td>13<\/td>\n",
       "      <td>5<\/td>\n",
       "      <td>3<\/td>\n",
       "      <td>...<\/td>\n",
       "      <td>3<\/td>\n",
       "      <td>1<\/td>\n",
       "      <td>No<\/td>\n",
       "      <td>3<\/td>\n",
       "      <td>80<\/td>\n",
       "      <td>3<\/td>\n",
       "      <td>10<\/td>\n",
       "      <td>2<\/td>\n",
       "      <td>10<\/td>\n",
       "      <td>9<\/td>\n",
       "    <\/tr>\n",
       "    <tr>\n",
       "      <th>3<\/th>\n",
       "      <td>Female<\/td>\n",
       "      <td>Married<\/td>\n",
       "      <td>458<\/td>\n",
       "      <td>1130<\/td>\n",
       "      <td>56<\/td>\n",
       "      <td>6214<\/td>\n",
       "      <td>3415<\/td>\n",
       "      <td>18<\/td>\n",
       "      <td>8<\/td>\n",
       "      <td>4<\/td>\n",
       "      <td>...<\/td>\n",
       "      <td>2<\/td>\n",
       "      <td>1<\/td>\n",
       "      <td>No<\/td>\n",
       "      <td>3<\/td>\n",
       "      <td>80<\/td>\n",
       "      <td>1<\/td>\n",
       "      <td>8<\/td>\n",
       "      <td>3<\/td>\n",
       "      <td>8<\/td>\n",
       "      <td>7<\/td>\n",
       "    <\/tr>\n",
       "    <tr>\n",
       "      <th>4<\/th>\n",
       "      <td>Male<\/td>\n",
       "      <td>Divorced<\/td>\n",
       "      <td>460<\/td>\n",
       "      <td>1192<\/td>\n",
       "      <td>61<\/td>\n",
       "      <td>6347<\/td>\n",
       "      <td>23177<\/td>\n",
       "      <td>16<\/td>\n",
       "      <td>5<\/td>\n",
       "      <td>2<\/td>\n",
       "      <td>...<\/td>\n",
       "      <td>4<\/td>\n",
       "      <td>7<\/td>\n",
       "      <td>No<\/td>\n",
       "      <td>3<\/td>\n",
       "      <td>80<\/td>\n",
       "      <td>2<\/td>\n",
       "      <td>8<\/td>\n",
       "      <td>2<\/td>\n",
       "      <td>6<\/td>\n",
       "      <td>2<\/td>\n",
       "    <\/tr>\n",
       "    <tr>\n",
       "      <th>...<\/th>\n",
       "      <td>...<\/td>\n",
       "      <td>...<\/td>\n",
       "      <td>...<\/td>\n",
       "      <td>...<\/td>\n",
       "      <td>...<\/td>\n",
       "      <td>...<\/td>\n",
       "      <td>...<\/td>\n",
       "      <td>...<\/td>\n",
       "      <td>...<\/td>\n",
       "      <td>...<\/td>\n",
       "      <td>...<\/td>\n",
       "      <td>...<\/td>\n",
       "      <td>...<\/td>\n",
       "      <td>...<\/td>\n",
       "      <td>...<\/td>\n",
       "      <td>...<\/td>\n",
       "      <td>...<\/td>\n",
       "      <td>...<\/td>\n",
       "      <td>...<\/td>\n",
       "      <td>...<\/td>\n",
       "      <td>...<\/td>\n",
       "    <\/tr>\n",
       "    <tr>\n",
       "      <th>1129<\/th>\n",
       "      <td>Male<\/td>\n",
       "      <td>Married<\/td>\n",
       "      <td>2061<\/td>\n",
       "      <td>884<\/td>\n",
       "      <td>41<\/td>\n",
       "      <td>2571<\/td>\n",
       "      <td>12290<\/td>\n",
       "      <td>17<\/td>\n",
       "      <td>23<\/td>\n",
       "      <td>2<\/td>\n",
       "      <td>...<\/td>\n",
       "      <td>4<\/td>\n",
       "      <td>4<\/td>\n",
       "      <td>No<\/td>\n",
       "      <td>3<\/td>\n",
       "      <td>80<\/td>\n",
       "      <td>1<\/td>\n",
       "      <td>17<\/td>\n",
       "      <td>3<\/td>\n",
       "      <td>5<\/td>\n",
       "      <td>2<\/td>\n",
       "    <\/tr>\n",
       "    <tr>\n",
       "      <th>1130<\/th>\n",
       "      <td>Male<\/td>\n",
       "      <td>Married<\/td>\n",
       "      <td>2062<\/td>\n",
       "      <td>613<\/td>\n",
       "      <td>42<\/td>\n",
       "      <td>9991<\/td>\n",
       "      <td>21457<\/td>\n",
       "      <td>15<\/td>\n",
       "      <td>6<\/td>\n",
       "      <td>1<\/td>\n",
       "      <td>...<\/td>\n",
       "      <td>1<\/td>\n",
       "      <td>4<\/td>\n",
       "      <td>No<\/td>\n",
       "      <td>3<\/td>\n",
       "      <td>80<\/td>\n",
       "      <td>1<\/td>\n",
       "      <td>9<\/td>\n",
       "      <td>5<\/td>\n",
       "      <td>7<\/td>\n",
       "      <td>7<\/td>\n",
       "    <\/tr>\n",
       "    <tr>\n",
       "      <th>1131<\/th>\n",
       "      <td>Male<\/td>\n",
       "      <td>Married<\/td>\n",
       "      <td>2064<\/td>\n",
       "      <td>155<\/td>\n",
       "      <td>87<\/td>\n",
       "      <td>6142<\/td>\n",
       "      <td>5174<\/td>\n",
       "      <td>20<\/td>\n",
       "      <td>4<\/td>\n",
       "      <td>3<\/td>\n",
       "      <td>...<\/td>\n",
       "      <td>2<\/td>\n",
       "      <td>1<\/td>\n",
       "      <td>Yes<\/td>\n",
       "      <td>4<\/td>\n",
       "      <td>80<\/td>\n",
       "      <td>1<\/td>\n",
       "      <td>6<\/td>\n",
       "      <td>0<\/td>\n",
       "      <td>6<\/td>\n",
       "      <td>2<\/td>\n",
       "    <\/tr>\n",
       "    <tr>\n",
       "      <th>1132<\/th>\n",
       "      <td>Male<\/td>\n",
       "      <td>Married<\/td>\n",
       "      <td>2065<\/td>\n",
       "      <td>1023<\/td>\n",
       "      <td>63<\/td>\n",
       "      <td>5390<\/td>\n",
       "      <td>13243<\/td>\n",
       "      <td>14<\/td>\n",
       "      <td>2<\/td>\n",
       "      <td>3<\/td>\n",
       "      <td>...<\/td>\n",
       "      <td>2<\/td>\n",
       "      <td>2<\/td>\n",
       "      <td>No<\/td>\n",
       "      <td>3<\/td>\n",
       "      <td>80<\/td>\n",
       "      <td>0<\/td>\n",
       "      <td>17<\/td>\n",
       "      <td>3<\/td>\n",
       "      <td>9<\/td>\n",
       "      <td>6<\/td>\n",
       "    <\/tr>\n",
       "    <tr>\n",
       "      <th>1133<\/th>\n",
       "      <td>Male<\/td>\n",
       "      <td>Married<\/td>\n",
       "      <td>2068<\/td>\n",
       "      <td>628<\/td>\n",
       "      <td>82<\/td>\n",
       "      <td>4404<\/td>\n",
       "      <td>10228<\/td>\n",
       "      <td>12<\/td>\n",
       "      <td>8<\/td>\n",
       "      <td>3<\/td>\n",
       "      <td>...<\/td>\n",
       "      <td>3<\/td>\n",
       "      <td>2<\/td>\n",
       "      <td>No<\/td>\n",
       "      <td>3<\/td>\n",
       "      <td>80<\/td>\n",
       "      <td>0<\/td>\n",
       "      <td>6<\/td>\n",
       "      <td>3<\/td>\n",
       "      <td>4<\/td>\n",
       "      <td>3<\/td>\n",
       "    <\/tr>\n",
       "  <\/tbody>\n",
       "<\/table>\n",
       "<p>1134 rows × 22 columns<\/p>\n",
       "<\/div>"
      ]
     },
     "metadata":{
      
     },
     "output_type":"display_data"
    }
   ],
   "metadata":{
    "datalore":{
     "type":"CODE",
     "hide_input_from_viewers":false,
     "hide_output_from_viewers":false
    }
   }
  },
  {
   "cell_type":"code",
   "source":[
    "df.columns"
   ],
   "execution_count":35,
   "outputs":[
    {
     "data":{
      "text\/plain":[
       "Index(['Sex', 'Status', 'Ncount Employeess', 'Rate\/Day', 'Rate\/hour ',\n",
       "       'Salary', 'Income Rate', 'Salary Inc. Percentage', 'Distance from home',\n",
       "       'Learning level', 'JobInvolvement', 'JobLevel', 'JobSatisfaction',\n",
       "       'No. of previous works', 'Spend Overtime', 'Rating of performance',\n",
       "       'StandardHours', 'StockOptionLevel', 'YearsWorkedTotal', 'TimesTrained',\n",
       "       'YearsSpentAtWork', 'YearsInCurrentJob'],\n",
       "      dtype='object')"
      ]
     },
     "metadata":{
      
     },
     "output_type":"display_data"
    }
   ],
   "metadata":{
    "datalore":{
     "type":"CODE",
     "hide_input_from_viewers":false,
     "hide_output_from_viewers":false
    }
   }
  },
  {
   "cell_type":"markdown",
   "source":[
    "This is a table that shows the count, mean, std, min, 25 and 75 percentile, and max of all columns."
   ],
   "attachments":{
    
   },
   "metadata":{
    "datalore":{
     "type":"MD",
     "hide_input_from_viewers":false,
     "hide_output_from_viewers":false
    }
   }
  },
  {
   "cell_type":"code",
   "source":[
    "df.describe()"
   ],
   "execution_count":36,
   "outputs":[
    {
     "data":{
      "text\/html":[
       "<div>\n",
       "<style scoped>\n",
       "    .dataframe tbody tr th:only-of-type {\n",
       "        vertical-align: middle;\n",
       "    }\n",
       "\n",
       "    .dataframe tbody tr th {\n",
       "        vertical-align: top;\n",
       "    }\n",
       "\n",
       "    .dataframe thead th {\n",
       "        text-align: right;\n",
       "    }\n",
       "<\/style>\n",
       "<table border=\"1\" class=\"dataframe\">\n",
       "  <thead>\n",
       "    <tr style=\"text-align: right;\">\n",
       "      <th><\/th>\n",
       "      <th>Ncount Employeess<\/th>\n",
       "      <th>Rate\/Day<\/th>\n",
       "      <th>Rate\/hour<\/th>\n",
       "      <th>Salary<\/th>\n",
       "      <th>Income Rate<\/th>\n",
       "      <th>Salary Inc. Percentage<\/th>\n",
       "      <th>Distance from home<\/th>\n",
       "      <th>Learning level<\/th>\n",
       "      <th>JobInvolvement<\/th>\n",
       "      <th>JobLevel<\/th>\n",
       "      <th>JobSatisfaction<\/th>\n",
       "      <th>No. of previous works<\/th>\n",
       "      <th>Rating of performance<\/th>\n",
       "      <th>StandardHours<\/th>\n",
       "      <th>StockOptionLevel<\/th>\n",
       "      <th>YearsWorkedTotal<\/th>\n",
       "      <th>TimesTrained<\/th>\n",
       "      <th>YearsSpentAtWork<\/th>\n",
       "      <th>YearsInCurrentJob<\/th>\n",
       "    <\/tr>\n",
       "  <\/thead>\n",
       "  <tbody>\n",
       "    <tr>\n",
       "      <th>count<\/th>\n",
       "      <td>1134.000000<\/td>\n",
       "      <td>1134.000000<\/td>\n",
       "      <td>1134.000000<\/td>\n",
       "      <td>1134.000000<\/td>\n",
       "      <td>1134.000000<\/td>\n",
       "      <td>1134.000000<\/td>\n",
       "      <td>1134.000000<\/td>\n",
       "      <td>1134.000000<\/td>\n",
       "      <td>1134.000000<\/td>\n",
       "      <td>1134.000000<\/td>\n",
       "      <td>1134.000000<\/td>\n",
       "      <td>1134.000000<\/td>\n",
       "      <td>1134.000000<\/td>\n",
       "      <td>1134.0<\/td>\n",
       "      <td>1134.000000<\/td>\n",
       "      <td>1134.000000<\/td>\n",
       "      <td>1134.000000<\/td>\n",
       "      <td>1134.000000<\/td>\n",
       "      <td>1134.000000<\/td>\n",
       "    <\/tr>\n",
       "    <tr>\n",
       "      <th>mean<\/th>\n",
       "      <td>1260.947972<\/td>\n",
       "      <td>790.213404<\/td>\n",
       "      <td>65.880952<\/td>\n",
       "      <td>6485.364198<\/td>\n",
       "      <td>14322.436508<\/td>\n",
       "      <td>15.142857<\/td>\n",
       "      <td>9.288360<\/td>\n",
       "      <td>2.925044<\/td>\n",
       "      <td>2.730159<\/td>\n",
       "      <td>2.056437<\/td>\n",
       "      <td>2.706349<\/td>\n",
       "      <td>2.712522<\/td>\n",
       "      <td>3.147266<\/td>\n",
       "      <td>80.0<\/td>\n",
       "      <td>0.805996<\/td>\n",
       "      <td>11.217813<\/td>\n",
       "      <td>2.817460<\/td>\n",
       "      <td>6.888889<\/td>\n",
       "      <td>4.154321<\/td>\n",
       "    <\/tr>\n",
       "    <tr>\n",
       "      <th>std<\/th>\n",
       "      <td>469.595916<\/td>\n",
       "      <td>402.710593<\/td>\n",
       "      <td>20.261288<\/td>\n",
       "      <td>4666.327603<\/td>\n",
       "      <td>7192.784800<\/td>\n",
       "      <td>3.613603<\/td>\n",
       "      <td>8.094908<\/td>\n",
       "      <td>1.031981<\/td>\n",
       "      <td>0.716363<\/td>\n",
       "      <td>1.097372<\/td>\n",
       "      <td>1.103319<\/td>\n",
       "      <td>2.501947<\/td>\n",
       "      <td>0.354528<\/td>\n",
       "      <td>0.0<\/td>\n",
       "      <td>0.854519<\/td>\n",
       "      <td>7.821441<\/td>\n",
       "      <td>1.280313<\/td>\n",
       "      <td>5.943244<\/td>\n",
       "      <td>3.538216<\/td>\n",
       "    <\/tr>\n",
       "    <tr>\n",
       "      <th>min<\/th>\n",
       "      <td>454.000000<\/td>\n",
       "      <td>102.000000<\/td>\n",
       "      <td>30.000000<\/td>\n",
       "      <td>1009.000000<\/td>\n",
       "      <td>2097.000000<\/td>\n",
       "      <td>11.000000<\/td>\n",
       "      <td>1.000000<\/td>\n",
       "      <td>1.000000<\/td>\n",
       "      <td>1.000000<\/td>\n",
       "      <td>1.000000<\/td>\n",
       "      <td>1.000000<\/td>\n",
       "      <td>0.000000<\/td>\n",
       "      <td>3.000000<\/td>\n",
       "      <td>80.0<\/td>\n",
       "      <td>0.000000<\/td>\n",
       "      <td>0.000000<\/td>\n",
       "      <td>0.000000<\/td>\n",
       "      <td>0.000000<\/td>\n",
       "      <td>0.000000<\/td>\n",
       "    <\/tr>\n",
       "    <tr>\n",
       "      <th>25%<\/th>\n",
       "      <td>855.250000<\/td>\n",
       "      <td>446.250000<\/td>\n",
       "      <td>48.000000<\/td>\n",
       "      <td>2932.250000<\/td>\n",
       "      <td>7910.250000<\/td>\n",
       "      <td>12.000000<\/td>\n",
       "      <td>2.000000<\/td>\n",
       "      <td>2.000000<\/td>\n",
       "      <td>2.000000<\/td>\n",
       "      <td>1.000000<\/td>\n",
       "      <td>2.000000<\/td>\n",
       "      <td>1.000000<\/td>\n",
       "      <td>3.000000<\/td>\n",
       "      <td>80.0<\/td>\n",
       "      <td>0.000000<\/td>\n",
       "      <td>6.000000<\/td>\n",
       "      <td>2.000000<\/td>\n",
       "      <td>3.000000<\/td>\n",
       "      <td>2.000000<\/td>\n",
       "    <\/tr>\n",
       "    <tr>\n",
       "      <th>50%<\/th>\n",
       "      <td>1259.500000<\/td>\n",
       "      <td>781.500000<\/td>\n",
       "      <td>66.000000<\/td>\n",
       "      <td>4899.000000<\/td>\n",
       "      <td>14242.000000<\/td>\n",
       "      <td>14.000000<\/td>\n",
       "      <td>7.000000<\/td>\n",
       "      <td>3.000000<\/td>\n",
       "      <td>3.000000<\/td>\n",
       "      <td>2.000000<\/td>\n",
       "      <td>3.000000<\/td>\n",
       "      <td>2.000000<\/td>\n",
       "      <td>3.000000<\/td>\n",
       "      <td>80.0<\/td>\n",
       "      <td>1.000000<\/td>\n",
       "      <td>10.000000<\/td>\n",
       "      <td>3.000000<\/td>\n",
       "      <td>5.000000<\/td>\n",
       "      <td>3.000000<\/td>\n",
       "    <\/tr>\n",
       "    <tr>\n",
       "      <th>75%<\/th>\n",
       "      <td>1666.750000<\/td>\n",
       "      <td>1144.000000<\/td>\n",
       "      <td>84.000000<\/td>\n",
       "      <td>8260.250000<\/td>\n",
       "      <td>20495.250000<\/td>\n",
       "      <td>18.000000<\/td>\n",
       "      <td>14.000000<\/td>\n",
       "      <td>4.000000<\/td>\n",
       "      <td>3.000000<\/td>\n",
       "      <td>3.000000<\/td>\n",
       "      <td>4.000000<\/td>\n",
       "      <td>4.000000<\/td>\n",
       "      <td>3.000000<\/td>\n",
       "      <td>80.0<\/td>\n",
       "      <td>1.000000<\/td>\n",
       "      <td>15.000000<\/td>\n",
       "      <td>3.000000<\/td>\n",
       "      <td>9.000000<\/td>\n",
       "      <td>7.000000<\/td>\n",
       "    <\/tr>\n",
       "    <tr>\n",
       "      <th>max<\/th>\n",
       "      <td>2068.000000<\/td>\n",
       "      <td>1499.000000<\/td>\n",
       "      <td>100.000000<\/td>\n",
       "      <td>19973.000000<\/td>\n",
       "      <td>26999.000000<\/td>\n",
       "      <td>25.000000<\/td>\n",
       "      <td>29.000000<\/td>\n",
       "      <td>5.000000<\/td>\n",
       "      <td>4.000000<\/td>\n",
       "      <td>5.000000<\/td>\n",
       "      <td>4.000000<\/td>\n",
       "      <td>9.000000<\/td>\n",
       "      <td>4.000000<\/td>\n",
       "      <td>80.0<\/td>\n",
       "      <td>3.000000<\/td>\n",
       "      <td>40.000000<\/td>\n",
       "      <td>6.000000<\/td>\n",
       "      <td>36.000000<\/td>\n",
       "      <td>17.000000<\/td>\n",
       "    <\/tr>\n",
       "  <\/tbody>\n",
       "<\/table>\n",
       "<\/div>"
      ]
     },
     "metadata":{
      
     },
     "output_type":"display_data"
    }
   ],
   "metadata":{
    "datalore":{
     "type":"CODE",
     "hide_input_from_viewers":false,
     "hide_output_from_viewers":false
    }
   }
  },
  {
   "cell_type":"code",
   "source":[
    "!pip install matplotlib"
   ],
   "execution_count":37,
   "outputs":[
    {
     "name":"stdout",
     "text":[
      "Requirement already satisfied: matplotlib in \/opt\/python\/envs\/default\/lib\/python3.8\/site-packages (3.5.1)\r\n",
      "Requirement already satisfied: pillow>=6.2.0 in \/opt\/python\/envs\/default\/lib\/python3.8\/site-packages (from matplotlib) (9.0.1)\r\n",
      "Requirement already satisfied: pyparsing>=2.2.1 in \/opt\/python\/envs\/default\/lib\/python3.8\/site-packages (from matplotlib) (3.0.7)\r\n",
      "Requirement already satisfied: cycler>=0.10 in \/opt\/python\/envs\/default\/lib\/python3.8\/site-packages (from matplotlib) (0.11.0)\r\n",
      "Requirement already satisfied: numpy>=1.17 in \/opt\/python\/envs\/default\/lib\/python3.8\/site-packages (from matplotlib) (1.21.5)\r\n",
      "Requirement already satisfied: kiwisolver>=1.0.1 in \/opt\/python\/envs\/default\/lib\/python3.8\/site-packages (from matplotlib) (1.3.2)\r\n",
      "Requirement already satisfied: packaging>=20.0 in \/opt\/python\/envs\/default\/lib\/python3.8\/site-packages (from matplotlib) (21.3)\r\n",
      "Requirement already satisfied: fonttools>=4.22.0 in \/opt\/python\/envs\/default\/lib\/python3.8\/site-packages (from matplotlib) (4.29.1)\r\n",
      "Requirement already satisfied: python-dateutil>=2.7 in \/opt\/python\/envs\/default\/lib\/python3.8\/site-packages (from matplotlib) (2.8.2)\r\n",
      "Requirement already satisfied: six>=1.5 in \/opt\/python\/envs\/default\/lib\/python3.8\/site-packages (from python-dateutil>=2.7->matplotlib) (1.16.0)\r\n",
      "\u001b[33mWARNING: You are using pip version 21.3.1; however, version 22.0.4 is available.\r\n",
      "You should consider upgrading via the '\/opt\/python\/envs\/default\/bin\/python -m pip install --upgrade pip' command.\u001b[0m\r\n"
     ],
     "output_type":"stream"
    }
   ],
   "metadata":{
    "datalore":{
     "type":"CODE",
     "hide_input_from_viewers":false,
     "hide_output_from_viewers":false
    }
   }
  },
  {
   "cell_type":"code",
   "source":[
    "import matplotlib.pyplot as plt"
   ],
   "execution_count":38,
   "outputs":[
    
   ],
   "metadata":{
    "datalore":{
     "type":"CODE",
     "hide_input_from_viewers":false,
     "hide_output_from_viewers":false
    }
   }
  },
  {
   "cell_type":"markdown",
   "source":[
    "The table below includes the correlation between all variables, but it is not very useful since there are variables with no correlation. Therefore, we extracted the ones with a relation to interpret them."
   ],
   "attachments":{
    
   },
   "metadata":{
    "datalore":{
     "type":"MD",
     "hide_input_from_viewers":false,
     "hide_output_from_viewers":false
    }
   }
  },
  {
   "cell_type":"code",
   "source":[
    "df.corr()"
   ],
   "execution_count":39,
   "outputs":[
    {
     "data":{
      "text\/html":[
       "<div>\n",
       "<style scoped>\n",
       "    .dataframe tbody tr th:only-of-type {\n",
       "        vertical-align: middle;\n",
       "    }\n",
       "\n",
       "    .dataframe tbody tr th {\n",
       "        vertical-align: top;\n",
       "    }\n",
       "\n",
       "    .dataframe thead th {\n",
       "        text-align: right;\n",
       "    }\n",
       "<\/style>\n",
       "<table border=\"1\" class=\"dataframe\">\n",
       "  <thead>\n",
       "    <tr style=\"text-align: right;\">\n",
       "      <th><\/th>\n",
       "      <th>Ncount Employeess<\/th>\n",
       "      <th>Rate\/Day<\/th>\n",
       "      <th>Rate\/hour<\/th>\n",
       "      <th>Salary<\/th>\n",
       "      <th>Income Rate<\/th>\n",
       "      <th>Salary Inc. Percentage<\/th>\n",
       "      <th>Distance from home<\/th>\n",
       "      <th>Learning level<\/th>\n",
       "      <th>JobInvolvement<\/th>\n",
       "      <th>JobLevel<\/th>\n",
       "      <th>JobSatisfaction<\/th>\n",
       "      <th>No. of previous works<\/th>\n",
       "      <th>Rating of performance<\/th>\n",
       "      <th>StandardHours<\/th>\n",
       "      <th>StockOptionLevel<\/th>\n",
       "      <th>YearsWorkedTotal<\/th>\n",
       "      <th>TimesTrained<\/th>\n",
       "      <th>YearsSpentAtWork<\/th>\n",
       "      <th>YearsInCurrentJob<\/th>\n",
       "    <\/tr>\n",
       "  <\/thead>\n",
       "  <tbody>\n",
       "    <tr>\n",
       "      <th>Ncount Employeess<\/th>\n",
       "      <td>1.000000<\/td>\n",
       "      <td>-0.013421<\/td>\n",
       "      <td>0.056284<\/td>\n",
       "      <td>-0.025955<\/td>\n",
       "      <td>0.014216<\/td>\n",
       "      <td>0.021064<\/td>\n",
       "      <td>0.031243<\/td>\n",
       "      <td>0.039483<\/td>\n",
       "      <td>-0.012635<\/td>\n",
       "      <td>-0.024958<\/td>\n",
       "      <td>-0.034347<\/td>\n",
       "      <td>-0.021487<\/td>\n",
       "      <td>0.015510<\/td>\n",
       "      <td>NaN<\/td>\n",
       "      <td>0.065293<\/td>\n",
       "      <td>-0.010975<\/td>\n",
       "      <td>0.009321<\/td>\n",
       "      <td>0.017371<\/td>\n",
       "      <td>0.026727<\/td>\n",
       "    <\/tr>\n",
       "    <tr>\n",
       "      <th>Rate\/Day<\/th>\n",
       "      <td>-0.013421<\/td>\n",
       "      <td>1.000000<\/td>\n",
       "      <td>0.043871<\/td>\n",
       "      <td>0.006781<\/td>\n",
       "      <td>-0.044348<\/td>\n",
       "      <td>0.017509<\/td>\n",
       "      <td>-0.011405<\/td>\n",
       "      <td>-0.007244<\/td>\n",
       "      <td>0.059296<\/td>\n",
       "      <td>-0.001210<\/td>\n",
       "      <td>0.034763<\/td>\n",
       "      <td>0.041737<\/td>\n",
       "      <td>-0.009283<\/td>\n",
       "      <td>NaN<\/td>\n",
       "      <td>0.043045<\/td>\n",
       "      <td>0.017627<\/td>\n",
       "      <td>0.015467<\/td>\n",
       "      <td>-0.026200<\/td>\n",
       "      <td>0.003969<\/td>\n",
       "    <\/tr>\n",
       "    <tr>\n",
       "      <th>Rate\/hour<\/th>\n",
       "      <td>0.056284<\/td>\n",
       "      <td>0.043871<\/td>\n",
       "      <td>1.000000<\/td>\n",
       "      <td>-0.008123<\/td>\n",
       "      <td>-0.002716<\/td>\n",
       "      <td>-0.009411<\/td>\n",
       "      <td>0.041269<\/td>\n",
       "      <td>0.045879<\/td>\n",
       "      <td>0.045459<\/td>\n",
       "      <td>-0.020340<\/td>\n",
       "      <td>-0.075200<\/td>\n",
       "      <td>0.021628<\/td>\n",
       "      <td>-0.001735<\/td>\n",
       "      <td>NaN<\/td>\n",
       "      <td>0.053772<\/td>\n",
       "      <td>0.011002<\/td>\n",
       "      <td>-0.014822<\/td>\n",
       "      <td>-0.028080<\/td>\n",
       "      <td>-0.020686<\/td>\n",
       "    <\/tr>\n",
       "    <tr>\n",
       "      <th>Salary<\/th>\n",
       "      <td>-0.025955<\/td>\n",
       "      <td>0.006781<\/td>\n",
       "      <td>-0.008123<\/td>\n",
       "      <td>1.000000<\/td>\n",
       "      <td>0.028821<\/td>\n",
       "      <td>-0.002294<\/td>\n",
       "      <td>0.001470<\/td>\n",
       "      <td>0.081567<\/td>\n",
       "      <td>-0.018002<\/td>\n",
       "      <td>0.949705<\/td>\n",
       "      <td>-0.006952<\/td>\n",
       "      <td>0.165257<\/td>\n",
       "      <td>0.010526<\/td>\n",
       "      <td>NaN<\/td>\n",
       "      <td>-0.002887<\/td>\n",
       "      <td>0.781343<\/td>\n",
       "      <td>-0.029969<\/td>\n",
       "      <td>0.503606<\/td>\n",
       "      <td>0.355865<\/td>\n",
       "    <\/tr>\n",
       "    <tr>\n",
       "      <th>Income Rate<\/th>\n",
       "      <td>0.014216<\/td>\n",
       "      <td>-0.044348<\/td>\n",
       "      <td>-0.002716<\/td>\n",
       "      <td>0.028821<\/td>\n",
       "      <td>1.000000<\/td>\n",
       "      <td>0.011671<\/td>\n",
       "      <td>0.034632<\/td>\n",
       "      <td>-0.017203<\/td>\n",
       "      <td>0.016014<\/td>\n",
       "      <td>0.030537<\/td>\n",
       "      <td>0.010143<\/td>\n",
       "      <td>0.025771<\/td>\n",
       "      <td>-0.000470<\/td>\n",
       "      <td>NaN<\/td>\n",
       "      <td>-0.023590<\/td>\n",
       "      <td>0.021027<\/td>\n",
       "      <td>0.011151<\/td>\n",
       "      <td>-0.019172<\/td>\n",
       "      <td>0.003729<\/td>\n",
       "    <\/tr>\n",
       "    <tr>\n",
       "      <th>Salary Inc. Percentage<\/th>\n",
       "      <td>0.021064<\/td>\n",
       "      <td>0.017509<\/td>\n",
       "      <td>-0.009411<\/td>\n",
       "      <td>-0.002294<\/td>\n",
       "      <td>0.011671<\/td>\n",
       "      <td>1.000000<\/td>\n",
       "      <td>0.048949<\/td>\n",
       "      <td>-0.001860<\/td>\n",
       "      <td>-0.005894<\/td>\n",
       "      <td>-0.013164<\/td>\n",
       "      <td>0.028020<\/td>\n",
       "      <td>-0.008145<\/td>\n",
       "      <td>0.767575<\/td>\n",
       "      <td>NaN<\/td>\n",
       "      <td>-0.002450<\/td>\n",
       "      <td>-0.005786<\/td>\n",
       "      <td>0.011174<\/td>\n",
       "      <td>-0.043480<\/td>\n",
       "      <td>0.010010<\/td>\n",
       "    <\/tr>\n",
       "    <tr>\n",
       "      <th>Distance from home<\/th>\n",
       "      <td>0.031243<\/td>\n",
       "      <td>-0.011405<\/td>\n",
       "      <td>0.041269<\/td>\n",
       "      <td>0.001470<\/td>\n",
       "      <td>0.034632<\/td>\n",
       "      <td>0.048949<\/td>\n",
       "      <td>1.000000<\/td>\n",
       "      <td>0.040414<\/td>\n",
       "      <td>-0.031470<\/td>\n",
       "      <td>0.031849<\/td>\n",
       "      <td>-0.015908<\/td>\n",
       "      <td>-0.025145<\/td>\n",
       "      <td>0.037780<\/td>\n",
       "      <td>NaN<\/td>\n",
       "      <td>0.050712<\/td>\n",
       "      <td>0.022441<\/td>\n",
       "      <td>-0.035113<\/td>\n",
       "      <td>0.016719<\/td>\n",
       "      <td>0.026118<\/td>\n",
       "    <\/tr>\n",
       "    <tr>\n",
       "      <th>Learning level<\/th>\n",
       "      <td>0.039483<\/td>\n",
       "      <td>-0.007244<\/td>\n",
       "      <td>0.045879<\/td>\n",
       "      <td>0.081567<\/td>\n",
       "      <td>-0.017203<\/td>\n",
       "      <td>-0.001860<\/td>\n",
       "      <td>0.040414<\/td>\n",
       "      <td>1.000000<\/td>\n",
       "      <td>0.058577<\/td>\n",
       "      <td>0.094925<\/td>\n",
       "      <td>-0.016248<\/td>\n",
       "      <td>0.117785<\/td>\n",
       "      <td>-0.025288<\/td>\n",
       "      <td>NaN<\/td>\n",
       "      <td>0.026533<\/td>\n",
       "      <td>0.146473<\/td>\n",
       "      <td>-0.047105<\/td>\n",
       "      <td>0.068579<\/td>\n",
       "      <td>0.057074<\/td>\n",
       "    <\/tr>\n",
       "    <tr>\n",
       "      <th>JobInvolvement<\/th>\n",
       "      <td>-0.012635<\/td>\n",
       "      <td>0.059296<\/td>\n",
       "      <td>0.045459<\/td>\n",
       "      <td>-0.018002<\/td>\n",
       "      <td>0.016014<\/td>\n",
       "      <td>-0.005894<\/td>\n",
       "      <td>-0.031470<\/td>\n",
       "      <td>0.058577<\/td>\n",
       "      <td>1.000000<\/td>\n",
       "      <td>-0.010925<\/td>\n",
       "      <td>-0.011007<\/td>\n",
       "      <td>0.027593<\/td>\n",
       "      <td>-0.020631<\/td>\n",
       "      <td>NaN<\/td>\n",
       "      <td>-0.000526<\/td>\n",
       "      <td>0.004198<\/td>\n",
       "      <td>-0.024883<\/td>\n",
       "      <td>-0.023633<\/td>\n",
       "      <td>0.020274<\/td>\n",
       "    <\/tr>\n",
       "    <tr>\n",
       "      <th>JobLevel<\/th>\n",
       "      <td>-0.024958<\/td>\n",
       "      <td>-0.001210<\/td>\n",
       "      <td>-0.020340<\/td>\n",
       "      <td>0.949705<\/td>\n",
       "      <td>0.030537<\/td>\n",
       "      <td>-0.013164<\/td>\n",
       "      <td>0.031849<\/td>\n",
       "      <td>0.094925<\/td>\n",
       "      <td>-0.010925<\/td>\n",
       "      <td>1.000000<\/td>\n",
       "      <td>0.000579<\/td>\n",
       "      <td>0.157648<\/td>\n",
       "      <td>0.003573<\/td>\n",
       "      <td>NaN<\/td>\n",
       "      <td>0.006039<\/td>\n",
       "      <td>0.781531<\/td>\n",
       "      <td>-0.020930<\/td>\n",
       "      <td>0.517380<\/td>\n",
       "      <td>0.377601<\/td>\n",
       "    <\/tr>\n",
       "    <tr>\n",
       "      <th>JobSatisfaction<\/th>\n",
       "      <td>-0.034347<\/td>\n",
       "      <td>0.034763<\/td>\n",
       "      <td>-0.075200<\/td>\n",
       "      <td>-0.006952<\/td>\n",
       "      <td>0.010143<\/td>\n",
       "      <td>0.028020<\/td>\n",
       "      <td>-0.015908<\/td>\n",
       "      <td>-0.016248<\/td>\n",
       "      <td>-0.011007<\/td>\n",
       "      <td>0.000579<\/td>\n",
       "      <td>1.000000<\/td>\n",
       "      <td>-0.044357<\/td>\n",
       "      <td>0.013628<\/td>\n",
       "      <td>NaN<\/td>\n",
       "      <td>0.006925<\/td>\n",
       "      <td>-0.010378<\/td>\n",
       "      <td>0.013880<\/td>\n",
       "      <td>-0.016960<\/td>\n",
       "      <td>-0.019582<\/td>\n",
       "    <\/tr>\n",
       "    <tr>\n",
       "      <th>No. of previous works<\/th>\n",
       "      <td>-0.021487<\/td>\n",
       "      <td>0.041737<\/td>\n",
       "      <td>0.021628<\/td>\n",
       "      <td>0.165257<\/td>\n",
       "      <td>0.025771<\/td>\n",
       "      <td>-0.008145<\/td>\n",
       "      <td>-0.025145<\/td>\n",
       "      <td>0.117785<\/td>\n",
       "      <td>0.027593<\/td>\n",
       "      <td>0.157648<\/td>\n",
       "      <td>-0.044357<\/td>\n",
       "      <td>1.000000<\/td>\n",
       "      <td>-0.016907<\/td>\n",
       "      <td>NaN<\/td>\n",
       "      <td>0.031274<\/td>\n",
       "      <td>0.246894<\/td>\n",
       "      <td>-0.081423<\/td>\n",
       "      <td>-0.103709<\/td>\n",
       "      <td>-0.085415<\/td>\n",
       "    <\/tr>\n",
       "    <tr>\n",
       "      <th>Rating of performance<\/th>\n",
       "      <td>0.015510<\/td>\n",
       "      <td>-0.009283<\/td>\n",
       "      <td>-0.001735<\/td>\n",
       "      <td>0.010526<\/td>\n",
       "      <td>-0.000470<\/td>\n",
       "      <td>0.767575<\/td>\n",
       "      <td>0.037780<\/td>\n",
       "      <td>-0.025288<\/td>\n",
       "      <td>-0.020631<\/td>\n",
       "      <td>0.003573<\/td>\n",
       "      <td>0.013628<\/td>\n",
       "      <td>-0.016907<\/td>\n",
       "      <td>1.000000<\/td>\n",
       "      <td>NaN<\/td>\n",
       "      <td>0.001161<\/td>\n",
       "      <td>0.022798<\/td>\n",
       "      <td>-0.004892<\/td>\n",
       "      <td>0.003584<\/td>\n",
       "      <td>0.050821<\/td>\n",
       "    <\/tr>\n",
       "    <tr>\n",
       "      <th>StandardHours<\/th>\n",
       "      <td>NaN<\/td>\n",
       "      <td>NaN<\/td>\n",
       "      <td>NaN<\/td>\n",
       "      <td>NaN<\/td>\n",
       "      <td>NaN<\/td>\n",
       "      <td>NaN<\/td>\n",
       "      <td>NaN<\/td>\n",
       "      <td>NaN<\/td>\n",
       "      <td>NaN<\/td>\n",
       "      <td>NaN<\/td>\n",
       "      <td>NaN<\/td>\n",
       "      <td>NaN<\/td>\n",
       "      <td>NaN<\/td>\n",
       "      <td>NaN<\/td>\n",
       "      <td>NaN<\/td>\n",
       "      <td>NaN<\/td>\n",
       "      <td>NaN<\/td>\n",
       "      <td>NaN<\/td>\n",
       "      <td>NaN<\/td>\n",
       "    <\/tr>\n",
       "    <tr>\n",
       "      <th>StockOptionLevel<\/th>\n",
       "      <td>0.065293<\/td>\n",
       "      <td>0.043045<\/td>\n",
       "      <td>0.053772<\/td>\n",
       "      <td>-0.002887<\/td>\n",
       "      <td>-0.023590<\/td>\n",
       "      <td>-0.002450<\/td>\n",
       "      <td>0.050712<\/td>\n",
       "      <td>0.026533<\/td>\n",
       "      <td>-0.000526<\/td>\n",
       "      <td>0.006039<\/td>\n",
       "      <td>0.006925<\/td>\n",
       "      <td>0.031274<\/td>\n",
       "      <td>0.001161<\/td>\n",
       "      <td>NaN<\/td>\n",
       "      <td>1.000000<\/td>\n",
       "      <td>0.008837<\/td>\n",
       "      <td>0.005519<\/td>\n",
       "      <td>0.012436<\/td>\n",
       "      <td>0.049320<\/td>\n",
       "    <\/tr>\n",
       "    <tr>\n",
       "      <th>YearsWorkedTotal<\/th>\n",
       "      <td>-0.010975<\/td>\n",
       "      <td>0.017627<\/td>\n",
       "      <td>0.011002<\/td>\n",
       "      <td>0.781343<\/td>\n",
       "      <td>0.021027<\/td>\n",
       "      <td>-0.005786<\/td>\n",
       "      <td>0.022441<\/td>\n",
       "      <td>0.146473<\/td>\n",
       "      <td>0.004198<\/td>\n",
       "      <td>0.781531<\/td>\n",
       "      <td>-0.010378<\/td>\n",
       "      <td>0.246894<\/td>\n",
       "      <td>0.022798<\/td>\n",
       "      <td>NaN<\/td>\n",
       "      <td>0.008837<\/td>\n",
       "      <td>1.000000<\/td>\n",
       "      <td>-0.042035<\/td>\n",
       "      <td>0.611641<\/td>\n",
       "      <td>0.460854<\/td>\n",
       "    <\/tr>\n",
       "    <tr>\n",
       "      <th>TimesTrained<\/th>\n",
       "      <td>0.009321<\/td>\n",
       "      <td>0.015467<\/td>\n",
       "      <td>-0.014822<\/td>\n",
       "      <td>-0.029969<\/td>\n",
       "      <td>0.011151<\/td>\n",
       "      <td>0.011174<\/td>\n",
       "      <td>-0.035113<\/td>\n",
       "      <td>-0.047105<\/td>\n",
       "      <td>-0.024883<\/td>\n",
       "      <td>-0.020930<\/td>\n",
       "      <td>0.013880<\/td>\n",
       "      <td>-0.081423<\/td>\n",
       "      <td>-0.004892<\/td>\n",
       "      <td>NaN<\/td>\n",
       "      <td>0.005519<\/td>\n",
       "      <td>-0.042035<\/td>\n",
       "      <td>1.000000<\/td>\n",
       "      <td>0.020183<\/td>\n",
       "      <td>-0.002933<\/td>\n",
       "    <\/tr>\n",
       "    <tr>\n",
       "      <th>YearsSpentAtWork<\/th>\n",
       "      <td>0.017371<\/td>\n",
       "      <td>-0.026200<\/td>\n",
       "      <td>-0.028080<\/td>\n",
       "      <td>0.503606<\/td>\n",
       "      <td>-0.019172<\/td>\n",
       "      <td>-0.043480<\/td>\n",
       "      <td>0.016719<\/td>\n",
       "      <td>0.068579<\/td>\n",
       "      <td>-0.023633<\/td>\n",
       "      <td>0.517380<\/td>\n",
       "      <td>-0.016960<\/td>\n",
       "      <td>-0.103709<\/td>\n",
       "      <td>0.003584<\/td>\n",
       "      <td>NaN<\/td>\n",
       "      <td>0.012436<\/td>\n",
       "      <td>0.611641<\/td>\n",
       "      <td>0.020183<\/td>\n",
       "      <td>1.000000<\/td>\n",
       "      <td>0.759003<\/td>\n",
       "    <\/tr>\n",
       "    <tr>\n",
       "      <th>YearsInCurrentJob<\/th>\n",
       "      <td>0.026727<\/td>\n",
       "      <td>0.003969<\/td>\n",
       "      <td>-0.020686<\/td>\n",
       "      <td>0.355865<\/td>\n",
       "      <td>0.003729<\/td>\n",
       "      <td>0.010010<\/td>\n",
       "      <td>0.026118<\/td>\n",
       "      <td>0.057074<\/td>\n",
       "      <td>0.020274<\/td>\n",
       "      <td>0.377601<\/td>\n",
       "      <td>-0.019582<\/td>\n",
       "      <td>-0.085415<\/td>\n",
       "      <td>0.050821<\/td>\n",
       "      <td>NaN<\/td>\n",
       "      <td>0.049320<\/td>\n",
       "      <td>0.460854<\/td>\n",
       "      <td>-0.002933<\/td>\n",
       "      <td>0.759003<\/td>\n",
       "      <td>1.000000<\/td>\n",
       "    <\/tr>\n",
       "  <\/tbody>\n",
       "<\/table>\n",
       "<\/div>"
      ]
     },
     "metadata":{
      
     },
     "output_type":"display_data"
    }
   ],
   "metadata":{
    "datalore":{
     "type":"CODE",
     "hide_input_from_viewers":false,
     "hide_output_from_viewers":false
    }
   }
  },
  {
   "cell_type":"markdown",
   "source":[
    "Below is the correlation between the years spent at the current job, and the total years spent at work."
   ],
   "attachments":{
    
   },
   "metadata":{
    "datalore":{
     "type":"MD",
     "hide_input_from_viewers":false,
     "hide_output_from_viewers":false
    }
   }
  },
  {
   "cell_type":"code",
   "source":[
    "x=df[['YearsInCurrentJob','YearsSpentAtWork']].corr(method='pearson')\n",
    "x"
   ],
   "execution_count":40,
   "outputs":[
    {
     "data":{
      "text\/html":[
       "<div>\n",
       "<style scoped>\n",
       "    .dataframe tbody tr th:only-of-type {\n",
       "        vertical-align: middle;\n",
       "    }\n",
       "\n",
       "    .dataframe tbody tr th {\n",
       "        vertical-align: top;\n",
       "    }\n",
       "\n",
       "    .dataframe thead th {\n",
       "        text-align: right;\n",
       "    }\n",
       "<\/style>\n",
       "<table border=\"1\" class=\"dataframe\">\n",
       "  <thead>\n",
       "    <tr style=\"text-align: right;\">\n",
       "      <th><\/th>\n",
       "      <th>YearsInCurrentJob<\/th>\n",
       "      <th>YearsSpentAtWork<\/th>\n",
       "    <\/tr>\n",
       "  <\/thead>\n",
       "  <tbody>\n",
       "    <tr>\n",
       "      <th>YearsInCurrentJob<\/th>\n",
       "      <td>1.000000<\/td>\n",
       "      <td>0.759003<\/td>\n",
       "    <\/tr>\n",
       "    <tr>\n",
       "      <th>YearsSpentAtWork<\/th>\n",
       "      <td>0.759003<\/td>\n",
       "      <td>1.000000<\/td>\n",
       "    <\/tr>\n",
       "  <\/tbody>\n",
       "<\/table>\n",
       "<\/div>"
      ]
     },
     "metadata":{
      
     },
     "output_type":"display_data"
    }
   ],
   "metadata":{
    "datalore":{
     "type":"CODE",
     "hide_input_from_viewers":false,
     "hide_output_from_viewers":false
    }
   }
  },
  {
   "cell_type":"code",
   "source":[
    "import numpy as np\n",
    "x=np.array(x)\n",
    "x[0,1]"
   ],
   "execution_count":41,
   "outputs":[
    {
     "data":{
      "text\/plain":[
       "0.7590027463313412"
      ]
     },
     "metadata":{
      
     },
     "output_type":"display_data"
    }
   ],
   "metadata":{
    "datalore":{
     "type":"CODE",
     "hide_input_from_viewers":false,
     "hide_output_from_viewers":false
    }
   }
  },
  {
   "cell_type":"markdown",
   "source":[
    "As you can see the correlation is positive, it is not very strong but we can confidently say it is quite strong, as it is closer to 1 than 0. Since they have a positive correlation, this indicates that as the years in current job increases, years spent at work also increases."
   ],
   "attachments":{
    
   },
   "metadata":{
    "datalore":{
     "type":"MD",
     "hide_input_from_viewers":false,
     "hide_output_from_viewers":false
    }
   }
  },
  {
   "cell_type":"markdown",
   "source":[
    "Now, we inserted a graph to represent this correlation so we can imagine how strong the relation is."
   ],
   "attachments":{
    
   },
   "metadata":{
    "datalore":{
     "type":"MD",
     "hide_input_from_viewers":false,
     "hide_output_from_viewers":false
    }
   }
  },
  {
   "cell_type":"code",
   "source":[
    "plt.scatter(df['YearsInCurrentJob'],df['YearsSpentAtWork'])\n",
    "plt.ylabel(\"Years\")\n",
    "plt.xlabel(\"Years\")\n",
    "plt.show()"
   ],
   "execution_count":42,
   "outputs":[
    {
     "data":{
      "image\/png":"[encoded data removed]"
     },
     "metadata":{
      "image\/png":{
       
      }
     },
     "output_type":"display_data"
    }
   ],
   "metadata":{
    "datalore":{
     "type":"CODE",
     "hide_input_from_viewers":false,
     "hide_output_from_viewers":false
    }
   }
  },
  {
   "cell_type":"markdown",
   "source":[
    "We repeated the process, but now we decided to choose \"Years worked total\" with \"Salary\" to see if the more an employee worked, the greater their salary or it is not affected."
   ],
   "attachments":{
    
   },
   "metadata":{
    "datalore":{
     "type":"MD",
     "hide_input_from_viewers":false,
     "hide_output_from_viewers":false
    }
   }
  },
  {
   "cell_type":"code",
   "source":[
    "y=df[['YearsWorkedTotal','Salary']].corr(method='pearson')\n",
    "y"
   ],
   "execution_count":43,
   "outputs":[
    {
     "data":{
      "text\/html":[
       "<div>\n",
       "<style scoped>\n",
       "    .dataframe tbody tr th:only-of-type {\n",
       "        vertical-align: middle;\n",
       "    }\n",
       "\n",
       "    .dataframe tbody tr th {\n",
       "        vertical-align: top;\n",
       "    }\n",
       "\n",
       "    .dataframe thead th {\n",
       "        text-align: right;\n",
       "    }\n",
       "<\/style>\n",
       "<table border=\"1\" class=\"dataframe\">\n",
       "  <thead>\n",
       "    <tr style=\"text-align: right;\">\n",
       "      <th><\/th>\n",
       "      <th>YearsWorkedTotal<\/th>\n",
       "      <th>Salary<\/th>\n",
       "    <\/tr>\n",
       "  <\/thead>\n",
       "  <tbody>\n",
       "    <tr>\n",
       "      <th>YearsWorkedTotal<\/th>\n",
       "      <td>1.000000<\/td>\n",
       "      <td>0.781343<\/td>\n",
       "    <\/tr>\n",
       "    <tr>\n",
       "      <th>Salary<\/th>\n",
       "      <td>0.781343<\/td>\n",
       "      <td>1.000000<\/td>\n",
       "    <\/tr>\n",
       "  <\/tbody>\n",
       "<\/table>\n",
       "<\/div>"
      ]
     },
     "metadata":{
      
     },
     "output_type":"display_data"
    }
   ],
   "metadata":{
    "datalore":{
     "type":"CODE",
     "hide_input_from_viewers":false,
     "hide_output_from_viewers":false
    }
   }
  },
  {
   "cell_type":"code",
   "source":[
    "plt.scatter(df['YearsWorkedTotal'],df['Salary'])\n",
    "plt.ylabel(\"Salary\")\n",
    "plt.xlabel(\"Years\")\n",
    "plt.show()"
   ],
   "execution_count":44,
   "outputs":[
    {
     "data":{
      "image\/png":"[encoded data removed]"
     },
     "metadata":{
      "image\/png":{
       
      }
     },
     "output_type":"display_data"
    }
   ],
   "metadata":{
    "datalore":{
     "type":"CODE",
     "hide_input_from_viewers":false,
     "hide_output_from_viewers":false
    }
   }
  },
  {
   "cell_type":"code",
   "source":[
    "import numpy as np"
   ],
   "execution_count":45,
   "outputs":[
    
   ],
   "metadata":{
    "datalore":{
     "type":"CODE",
     "hide_input_from_viewers":false,
     "hide_output_from_viewers":false
    }
   }
  },
  {
   "cell_type":"code",
   "source":[
    "x=np.array(x)\n",
    "x[0,1]"
   ],
   "execution_count":46,
   "outputs":[
    {
     "data":{
      "text\/plain":[
       "0.7590027463313412"
      ]
     },
     "metadata":{
      
     },
     "output_type":"display_data"
    }
   ],
   "metadata":{
    "datalore":{
     "type":"CODE",
     "hide_input_from_viewers":false,
     "hide_output_from_viewers":false
    }
   }
  },
  {
   "cell_type":"markdown",
   "source":[
    "The results show a positive correlation, but not very strong, it is not guaranteed that the more years you spend working in this company, the greater the salary"
   ],
   "attachments":{
    
   },
   "metadata":{
    "datalore":{
     "type":"MD",
     "hide_input_from_viewers":false,
     "hide_output_from_viewers":false
    }
   }
  },
  {
   "cell_type":"markdown",
   "source":[
    "Up next is a brief description of the discrete variables"
   ],
   "attachments":{
    
   },
   "metadata":{
    "datalore":{
     "type":"MD",
     "hide_input_from_viewers":false,
     "hide_output_from_viewers":false
    }
   }
  },
  {
   "cell_type":"code",
   "source":[
    "z= df['JobLevel'].value_counts()\n",
    "z"
   ],
   "execution_count":47,
   "outputs":[
    {
     "data":{
      "text\/html":[
       
      ]
     },
     "metadata":{
      
     },
     "output_type":"display_data"
    }
   ],
   "metadata":{
    "datalore":{
     "type":"CODE",
     "hide_input_from_viewers":false,
     "hide_output_from_viewers":false
    }
   }
  },
  {
   "cell_type":"code",
   "source":[
    "z= df['JobLevel'].value_counts(normalize=True)\n",
    "z"
   ],
   "execution_count":48,
   "outputs":[
    {
     "data":{
      "text\/html":[
       
      ]
     },
     "metadata":{
      
     },
     "output_type":"display_data"
    }
   ],
   "metadata":{
    "datalore":{
     "type":"CODE",
     "hide_input_from_viewers":false,
     "hide_output_from_viewers":false
    }
   }
  },
  {
   "cell_type":"code",
   "source":[
    "z= df['TimesTrained'].value_counts()\n",
    "z"
   ],
   "execution_count":49,
   "outputs":[
    {
     "data":{
      "text\/html":[
       
      ]
     },
     "metadata":{
      
     },
     "output_type":"display_data"
    }
   ],
   "metadata":{
    "datalore":{
     "type":"CODE",
     "hide_input_from_viewers":false,
     "hide_output_from_viewers":false
    }
   }
  },
  {
   "cell_type":"code",
   "source":[
    "z= df['TimesTrained'].value_counts(normalize=True)\n",
    "z"
   ],
   "execution_count":50,
   "outputs":[
    {
     "data":{
      "text\/html":[
       
      ]
     },
     "metadata":{
      
     },
     "output_type":"display_data"
    }
   ],
   "metadata":{
    "datalore":{
     "type":"CODE",
     "hide_input_from_viewers":false,
     "hide_output_from_viewers":false
    }
   }
  },
  {
   "cell_type":"code",
   "source":[
    "z= df['Sex'].value_counts()\n",
    "z"
   ],
   "execution_count":51,
   "outputs":[
    {
     "data":{
      "text\/html":[
       
      ]
     },
     "metadata":{
      
     },
     "output_type":"display_data"
    }
   ],
   "metadata":{
    "datalore":{
     "type":"CODE",
     "hide_input_from_viewers":false,
     "hide_output_from_viewers":false
    }
   }
  },
  {
   "cell_type":"code",
   "source":[
    "z= df['Sex'].value_counts(normalize=True)\n",
    "z"
   ],
   "execution_count":52,
   "outputs":[
    {
     "data":{
      "text\/html":[
       
      ]
     },
     "metadata":{
      
     },
     "output_type":"display_data"
    }
   ],
   "metadata":{
    "datalore":{
     "type":"CODE",
     "hide_input_from_viewers":false,
     "hide_output_from_viewers":false
    }
   }
  },
  {
   "cell_type":"code",
   "source":[
    "z= df['TimesTrained'].value_counts()\n",
    "z"
   ],
   "execution_count":53,
   "outputs":[
    {
     "data":{
      "text\/html":[
       
      ]
     },
     "metadata":{
      
     },
     "output_type":"display_data"
    }
   ],
   "metadata":{
    "datalore":{
     "type":"CODE",
     "hide_input_from_viewers":false,
     "hide_output_from_viewers":false
    }
   }
  },
  {
   "cell_type":"code",
   "source":[
    "z= df['TimesTrained'].value_counts(normalize=True)\n",
    "z"
   ],
   "execution_count":54,
   "outputs":[
    {
     "data":{
      "text\/html":[
       
      ]
     },
     "metadata":{
      
     },
     "output_type":"display_data"
    }
   ],
   "metadata":{
    "datalore":{
     "type":"CODE",
     "hide_input_from_viewers":false,
     "hide_output_from_viewers":false
    }
   }
  },
  {
   "cell_type":"code",
   "source":[
    "z= df['No. of previous works'].value_counts()\n",
    "z"
   ],
   "execution_count":55,
   "outputs":[
    {
     "data":{
      "text\/html":[
       
      ]
     },
     "metadata":{
      
     },
     "output_type":"display_data"
    }
   ],
   "metadata":{
    "datalore":{
     "type":"CODE",
     "hide_input_from_viewers":false,
     "hide_output_from_viewers":false
    }
   }
  },
  {
   "cell_type":"code",
   "source":[
    "z= df['No. of previous works'].value_counts(normalize=True)\n",
    "z"
   ],
   "execution_count":56,
   "outputs":[
    {
     "data":{
      "text\/html":[
       
      ]
     },
     "metadata":{
      
     },
     "output_type":"display_data"
    }
   ],
   "metadata":{
    "datalore":{
     "type":"CODE",
     "hide_input_from_viewers":false,
     "hide_output_from_viewers":false
    }
   }
  },
  {
   "cell_type":"code",
   "source":[
    "z= df['Ncount Employeess'].value_counts()\n",
    "z"
   ],
   "execution_count":57,
   "outputs":[
    {
     "data":{
      "text\/html":[
       
      ]
     },
     "metadata":{
      
     },
     "output_type":"display_data"
    }
   ],
   "metadata":{
    "datalore":{
     "type":"CODE",
     "hide_input_from_viewers":false,
     "hide_output_from_viewers":false
    }
   }
  },
  {
   "cell_type":"code",
   "source":[
    "z= df['Ncount Employeess'].value_counts(normalize=True)\n",
    "z"
   ],
   "execution_count":58,
   "outputs":[
    {
     "data":{
      "text\/html":[
       
      ]
     },
     "metadata":{
      
     },
     "output_type":"display_data"
    }
   ],
   "metadata":{
    "datalore":{
     "type":"CODE",
     "hide_input_from_viewers":false,
     "hide_output_from_viewers":false
    }
   }
  },
  {
   "cell_type":"code",
   "source":[
    "z= df['Rate\/Day'].value_counts()\n",
    "z"
   ],
   "execution_count":59,
   "outputs":[
    {
     "data":{
      "text\/html":[
       
      ]
     },
     "metadata":{
      
     },
     "output_type":"display_data"
    }
   ],
   "metadata":{
    "datalore":{
     "type":"CODE",
     "hide_input_from_viewers":false,
     "hide_output_from_viewers":false
    }
   }
  },
  {
   "cell_type":"code",
   "source":[
    "z= df['Rate\/Day'].value_counts(normalize=True)\n",
    "z"
   ],
   "execution_count":60,
   "outputs":[
    {
     "data":{
      "text\/html":[
       
      ]
     },
     "metadata":{
      
     },
     "output_type":"display_data"
    }
   ],
   "metadata":{
    "datalore":{
     "type":"CODE",
     "hide_input_from_viewers":false,
     "hide_output_from_viewers":false
    }
   }
  },
  {
   "cell_type":"code",
   "source":[
    "z= df['Salary'].value_counts()\n",
    "z"
   ],
   "execution_count":61,
   "outputs":[
    {
     "data":{
      "text\/html":[
       
      ]
     },
     "metadata":{
      
     },
     "output_type":"display_data"
    }
   ],
   "metadata":{
    "datalore":{
     "type":"CODE",
     "hide_input_from_viewers":false,
     "hide_output_from_viewers":false
    }
   }
  },
  {
   "cell_type":"code",
   "source":[
    "z= df['Salary'].value_counts(normalize=True)\n",
    "z"
   ],
   "execution_count":64,
   "outputs":[
    {
     "data":{
      "text\/html":[
       
      ]
     },
     "metadata":{
      
     },
     "output_type":"display_data"
    }
   ],
   "metadata":{
    "datalore":{
     "type":"CODE",
     "hide_input_from_viewers":false,
     "hide_output_from_viewers":false
    }
   }
  },
  {
   "cell_type":"markdown",
   "source":[
    "Contingency tables:"
   ],
   "attachments":{
    
   },
   "metadata":{
    "datalore":{
     "type":"MD",
     "hide_input_from_viewers":false,
     "hide_output_from_viewers":false
    }
   }
  },
  {
   "cell_type":"code",
   "source":[
    "tab = pd.crosstab(df['Status'], df['Sex'])\n",
    "tab"
   ],
   "execution_count":65,
   "outputs":[
    {
     "data":{
      "text\/html":[
       "<div>\n",
       "<style scoped>\n",
       "    .dataframe tbody tr th:only-of-type {\n",
       "        vertical-align: middle;\n",
       "    }\n",
       "\n",
       "    .dataframe tbody tr th {\n",
       "        vertical-align: top;\n",
       "    }\n",
       "\n",
       "    .dataframe thead th {\n",
       "        text-align: right;\n",
       "    }\n",
       "<\/style>\n",
       "<table border=\"1\" class=\"dataframe\">\n",
       "  <thead>\n",
       "    <tr style=\"text-align: right;\">\n",
       "      <th>Sex<\/th>\n",
       "      <th>Female<\/th>\n",
       "      <th>Male<\/th>\n",
       "    <\/tr>\n",
       "    <tr>\n",
       "      <th>Status<\/th>\n",
       "      <th><\/th>\n",
       "      <th><\/th>\n",
       "    <\/tr>\n",
       "  <\/thead>\n",
       "  <tbody>\n",
       "    <tr>\n",
       "      <th>Divorced<\/th>\n",
       "      <td>88<\/td>\n",
       "      <td>161<\/td>\n",
       "    <\/tr>\n",
       "    <tr>\n",
       "      <th>Married<\/th>\n",
       "      <td>223<\/td>\n",
       "      <td>304<\/td>\n",
       "    <\/tr>\n",
       "    <tr>\n",
       "      <th>Single<\/th>\n",
       "      <td>147<\/td>\n",
       "      <td>211<\/td>\n",
       "    <\/tr>\n",
       "  <\/tbody>\n",
       "<\/table>\n",
       "<\/div>"
      ]
     },
     "metadata":{
      
     },
     "output_type":"display_data"
    }
   ],
   "metadata":{
    "datalore":{
     "type":"CODE",
     "hide_input_from_viewers":false,
     "hide_output_from_viewers":false
    }
   }
  },
  {
   "cell_type":"markdown",
   "source":[
    "88 females are divorced, 181 males are divorced, and the percentage of divorced males is way higher than the percentage of divorced females\n",
    "\n",
    "223 females are married, 304 males are married, and the percentage of married females is higher than the percentage of married males \n",
    "\n",
    "\n",
    "147 females are single, 211 males are single, and the percentage of single females is higher than the percentage of single males "
   ],
   "attachments":{
    
   },
   "metadata":{
    "datalore":{
     "type":"MD",
     "hide_input_from_viewers":false,
     "hide_output_from_viewers":false
    }
   }
  },
  {
   "cell_type":"code",
   "source":[
    "tab.loc[:, ['Female'] ]"
   ],
   "execution_count":66,
   "outputs":[
    {
     "data":{
      "text\/html":[
       "<div>\n",
       "<style scoped>\n",
       "    .dataframe tbody tr th:only-of-type {\n",
       "        vertical-align: middle;\n",
       "    }\n",
       "\n",
       "    .dataframe tbody tr th {\n",
       "        vertical-align: top;\n",
       "    }\n",
       "\n",
       "    .dataframe thead th {\n",
       "        text-align: right;\n",
       "    }\n",
       "<\/style>\n",
       "<table border=\"1\" class=\"dataframe\">\n",
       "  <thead>\n",
       "    <tr style=\"text-align: right;\">\n",
       "      <th>Sex<\/th>\n",
       "      <th>Female<\/th>\n",
       "    <\/tr>\n",
       "    <tr>\n",
       "      <th>Status<\/th>\n",
       "      <th><\/th>\n",
       "    <\/tr>\n",
       "  <\/thead>\n",
       "  <tbody>\n",
       "    <tr>\n",
       "      <th>Divorced<\/th>\n",
       "      <td>88<\/td>\n",
       "    <\/tr>\n",
       "    <tr>\n",
       "      <th>Married<\/th>\n",
       "      <td>223<\/td>\n",
       "    <\/tr>\n",
       "    <tr>\n",
       "      <th>Single<\/th>\n",
       "      <td>147<\/td>\n",
       "    <\/tr>\n",
       "  <\/tbody>\n",
       "<\/table>\n",
       "<\/div>"
      ]
     },
     "metadata":{
      
     },
     "output_type":"display_data"
    }
   ],
   "metadata":{
    "datalore":{
     "type":"CODE",
     "hide_input_from_viewers":false,
     "hide_output_from_viewers":false
    }
   }
  },
  {
   "cell_type":"code",
   "source":[
    "tab.loc[['Divorced'], ['Female'] ]"
   ],
   "execution_count":68,
   "outputs":[
    {
     "data":{
      "text\/html":[
       "<div>\n",
       "<style scoped>\n",
       "    .dataframe tbody tr th:only-of-type {\n",
       "        vertical-align: middle;\n",
       "    }\n",
       "\n",
       "    .dataframe tbody tr th {\n",
       "        vertical-align: top;\n",
       "    }\n",
       "\n",
       "    .dataframe thead th {\n",
       "        text-align: right;\n",
       "    }\n",
       "<\/style>\n",
       "<table border=\"1\" class=\"dataframe\">\n",
       "  <thead>\n",
       "    <tr style=\"text-align: right;\">\n",
       "      <th>Sex<\/th>\n",
       "      <th>Female<\/th>\n",
       "    <\/tr>\n",
       "    <tr>\n",
       "      <th>Status<\/th>\n",
       "      <th><\/th>\n",
       "    <\/tr>\n",
       "  <\/thead>\n",
       "  <tbody>\n",
       "    <tr>\n",
       "      <th>Divorced<\/th>\n",
       "      <td>88<\/td>\n",
       "    <\/tr>\n",
       "  <\/tbody>\n",
       "<\/table>\n",
       "<\/div>"
      ]
     },
     "metadata":{
      
     },
     "output_type":"display_data"
    }
   ],
   "metadata":{
    "datalore":{
     "type":"CODE",
     "hide_input_from_viewers":false,
     "hide_output_from_viewers":false
    }
   }
  },
  {
   "cell_type":"markdown",
   "source":[
    "There are 88 divorced females in the workplace "
   ],
   "attachments":{
    
   },
   "metadata":{
    "datalore":{
     "type":"MD",
     "hide_input_from_viewers":false,
     "hide_output_from_viewers":false
    }
   }
  },
  {
   "cell_type":"code",
   "source":[
    "tab.loc[:, ['Male'] ]"
   ],
   "execution_count":70,
   "outputs":[
    {
     "data":{
      "text\/html":[
       "<div>\n",
       "<style scoped>\n",
       "    .dataframe tbody tr th:only-of-type {\n",
       "        vertical-align: middle;\n",
       "    }\n",
       "\n",
       "    .dataframe tbody tr th {\n",
       "        vertical-align: top;\n",
       "    }\n",
       "\n",
       "    .dataframe thead th {\n",
       "        text-align: right;\n",
       "    }\n",
       "<\/style>\n",
       "<table border=\"1\" class=\"dataframe\">\n",
       "  <thead>\n",
       "    <tr style=\"text-align: right;\">\n",
       "      <th>Sex<\/th>\n",
       "      <th>Male<\/th>\n",
       "    <\/tr>\n",
       "    <tr>\n",
       "      <th>Status<\/th>\n",
       "      <th><\/th>\n",
       "    <\/tr>\n",
       "  <\/thead>\n",
       "  <tbody>\n",
       "    <tr>\n",
       "      <th>Divorced<\/th>\n",
       "      <td>161<\/td>\n",
       "    <\/tr>\n",
       "    <tr>\n",
       "      <th>Married<\/th>\n",
       "      <td>304<\/td>\n",
       "    <\/tr>\n",
       "    <tr>\n",
       "      <th>Single<\/th>\n",
       "      <td>211<\/td>\n",
       "    <\/tr>\n",
       "  <\/tbody>\n",
       "<\/table>\n",
       "<\/div>"
      ]
     },
     "metadata":{
      
     },
     "output_type":"display_data"
    }
   ],
   "metadata":{
    "datalore":{
     "type":"CODE",
     "hide_input_from_viewers":false,
     "hide_output_from_viewers":false
    }
   }
  },
  {
   "cell_type":"code",
   "source":[
    "tab.loc[['Divorced'], ['Male'] ]"
   ],
   "execution_count":69,
   "outputs":[
    {
     "data":{
      "text\/html":[
       "<div>\n",
       "<style scoped>\n",
       "    .dataframe tbody tr th:only-of-type {\n",
       "        vertical-align: middle;\n",
       "    }\n",
       "\n",
       "    .dataframe tbody tr th {\n",
       "        vertical-align: top;\n",
       "    }\n",
       "\n",
       "    .dataframe thead th {\n",
       "        text-align: right;\n",
       "    }\n",
       "<\/style>\n",
       "<table border=\"1\" class=\"dataframe\">\n",
       "  <thead>\n",
       "    <tr style=\"text-align: right;\">\n",
       "      <th>Sex<\/th>\n",
       "      <th>Male<\/th>\n",
       "    <\/tr>\n",
       "    <tr>\n",
       "      <th>Status<\/th>\n",
       "      <th><\/th>\n",
       "    <\/tr>\n",
       "  <\/thead>\n",
       "  <tbody>\n",
       "    <tr>\n",
       "      <th>Divorced<\/th>\n",
       "      <td>161<\/td>\n",
       "    <\/tr>\n",
       "  <\/tbody>\n",
       "<\/table>\n",
       "<\/div>"
      ]
     },
     "metadata":{
      
     },
     "output_type":"display_data"
    }
   ],
   "metadata":{
    "datalore":{
     "type":"CODE",
     "hide_input_from_viewers":false,
     "hide_output_from_viewers":false
    }
   }
  },
  {
   "cell_type":"markdown",
   "source":[
    "There are 161 divorced males in the workplace"
   ],
   "attachments":{
    
   },
   "metadata":{
    "datalore":{
     "type":"MD",
     "hide_input_from_viewers":false,
     "hide_output_from_viewers":false
    }
   }
  },
  {
   "cell_type":"code",
   "source":[
    "table = sm.stats.Table(tab)"
   ],
   "execution_count":98,
   "outputs":[
    
   ],
   "metadata":{
    "datalore":{
     "type":"CODE",
     "hide_input_from_viewers":false,
     "hide_output_from_viewers":false
    }
   }
  },
  {
   "cell_type":"code",
   "source":[
    "print(table)"
   ],
   "execution_count":100,
   "outputs":[
    {
     "name":"stdout",
     "text":[
      "A 3x2 contingency table with counts:\n",
      "[[ 88. 161.]\n",
      " [223. 304.]\n",
      " [147. 211.]]\n"
     ],
     "output_type":"stream"
    }
   ],
   "metadata":{
    "datalore":{
     "type":"CODE",
     "hide_input_from_viewers":false,
     "hide_output_from_viewers":false
    }
   }
  },
  {
   "cell_type":"code",
   "source":[
    "table.table"
   ],
   "execution_count":101,
   "outputs":[
    {
     "data":{
      "text\/html":[
       
      ]
     },
     "metadata":{
      
     },
     "output_type":"display_data"
    }
   ],
   "metadata":{
    "datalore":{
     "type":"CODE",
     "hide_input_from_viewers":false,
     "hide_output_from_viewers":false
    }
   }
  },
  {
   "cell_type":"code",
   "source":[
    "table.fittedvalues"
   ],
   "execution_count":106,
   "outputs":[
    {
     "data":{
      "text\/html":[
       "<div>\n",
       "<style scoped>\n",
       "    .dataframe tbody tr th:only-of-type {\n",
       "        vertical-align: middle;\n",
       "    }\n",
       "\n",
       "    .dataframe tbody tr th {\n",
       "        vertical-align: top;\n",
       "    }\n",
       "\n",
       "    .dataframe thead th {\n",
       "        text-align: right;\n",
       "    }\n",
       "<\/style>\n",
       "<table border=\"1\" class=\"dataframe\">\n",
       "  <thead>\n",
       "    <tr style=\"text-align: right;\">\n",
       "      <th>Sex<\/th>\n",
       "      <th>Female<\/th>\n",
       "      <th>Male<\/th>\n",
       "    <\/tr>\n",
       "    <tr>\n",
       "      <th>Status<\/th>\n",
       "      <th><\/th>\n",
       "      <th><\/th>\n",
       "    <\/tr>\n",
       "  <\/thead>\n",
       "  <tbody>\n",
       "    <tr>\n",
       "      <th>Divorced<\/th>\n",
       "      <td>100.566138<\/td>\n",
       "      <td>148.433862<\/td>\n",
       "    <\/tr>\n",
       "    <tr>\n",
       "      <th>Married<\/th>\n",
       "      <td>212.844797<\/td>\n",
       "      <td>314.155203<\/td>\n",
       "    <\/tr>\n",
       "    <tr>\n",
       "      <th>Single<\/th>\n",
       "      <td>144.589065<\/td>\n",
       "      <td>213.410935<\/td>\n",
       "    <\/tr>\n",
       "  <\/tbody>\n",
       "<\/table>\n",
       "<\/div>"
      ]
     },
     "metadata":{
      
     },
     "output_type":"display_data"
    }
   ],
   "metadata":{
    "datalore":{
     "type":"CODE",
     "hide_input_from_viewers":false,
     "hide_output_from_viewers":false
    }
   }
  },
  {
   "cell_type":"markdown",
   "source":[
    "Now we are comparing the Rating of perfomance to the job satisfaction"
   ],
   "attachments":{
    
   },
   "metadata":{
    "datalore":{
     "type":"MD",
     "hide_input_from_viewers":false,
     "hide_output_from_viewers":false
    }
   }
  },
  {
   "cell_type":"code",
   "source":[
    "t = pd.crosstab(df['JobSatisfaction'], df['Rating of performance'])"
   ],
   "execution_count":50,
   "outputs":[
    {
     "data":{
      "text\/html":[
       "<div>\n",
       "<style scoped>\n",
       "    .dataframe tbody tr th:only-of-type {\n",
       "        vertical-align: middle;\n",
       "    }\n",
       "\n",
       "    .dataframe tbody tr th {\n",
       "        vertical-align: top;\n",
       "    }\n",
       "\n",
       "    .dataframe thead th {\n",
       "        text-align: right;\n",
       "    }\n",
       "<\/style>\n",
       "<table border=\"1\" class=\"dataframe\">\n",
       "  <thead>\n",
       "    <tr style=\"text-align: right;\">\n",
       "      <th>Rating of performance<\/th>\n",
       "      <th>3<\/th>\n",
       "      <th>4<\/th>\n",
       "    <\/tr>\n",
       "    <tr>\n",
       "      <th>JobSatisfaction<\/th>\n",
       "      <th><\/th>\n",
       "      <th><\/th>\n",
       "    <\/tr>\n",
       "  <\/thead>\n",
       "  <tbody>\n",
       "    <tr>\n",
       "      <th>1<\/th>\n",
       "      <td>195<\/td>\n",
       "      <td>35<\/td>\n",
       "    <\/tr>\n",
       "    <tr>\n",
       "      <th>2<\/th>\n",
       "      <td>183<\/td>\n",
       "      <td>32<\/td>\n",
       "    <\/tr>\n",
       "    <tr>\n",
       "      <th>3<\/th>\n",
       "      <td>306<\/td>\n",
       "      <td>41<\/td>\n",
       "    <\/tr>\n",
       "    <tr>\n",
       "      <th>4<\/th>\n",
       "      <td>283<\/td>\n",
       "      <td>59<\/td>\n",
       "    <\/tr>\n",
       "  <\/tbody>\n",
       "<\/table>\n",
       "<\/div>"
      ]
     },
     "metadata":{
      
     },
     "output_type":"display_data"
    }
   ],
   "metadata":{
    "datalore":{
     "type":"CODE",
     "hide_input_from_viewers":false,
     "hide_output_from_viewers":false
    }
   }
  },
  {
   "cell_type":"markdown",
   "source":[
    "We can interpret that the majority of the employers whether they are satisified or not have a rating performance of 3.\n",
    "If you look closely at the rating performance 3, there are more people satisfied, the majority lie between level 3 and 4 in the job satisfaction variable. Likewise, in rating performance 4 there are more people highly satisfied "
   ],
   "attachments":{
    
   },
   "metadata":{
    "datalore":{
     "type":"MD",
     "hide_input_from_viewers":false,
     "hide_output_from_viewers":false
    }
   }
  },
  {
   "cell_type":"code",
   "source":[
    "import matplotlib.pyplot as plt\n",
    "df['Status'].value_counts().plot(kind='pie', title='Status')"
   ],
   "execution_count":61,
   "outputs":[
    {
     "data":{
      "text\/plain":[
       "<AxesSubplot:title={'center':'Status'}, ylabel='Status'>"
      ],
      "image\/png":"[encoded data removed]"
     },
     "metadata":{
      "image\/png":{
       
      }
     },
     "output_type":"display_data"
    }
   ],
   "metadata":{
    "datalore":{
     "type":"CODE",
     "hide_input_from_viewers":false,
     "hide_output_from_viewers":false
    }
   }
  },
  {
   "cell_type":"code",
   "source":[
    "JobInvolvement_cat = { \n",
    "    1: 'Low',\n",
    "    2: 'Medium', \n",
    "    3: 'High',\n",
    "    4: 'Very High'\n",
    "}\n",
    "df['JobInvolvement'] = df['JobInvolvement'].map(JobInvolvement_cat) \n",
    "df['JobInvolvement'].head()"
   ],
   "execution_count":70,
   "outputs":[
    {
     "data":{
      "text\/html":[
       
      ]
     },
     "metadata":{
      
     },
     "output_type":"display_data"
    }
   ],
   "metadata":{
    "datalore":{
     "type":"CODE",
     "hide_input_from_viewers":false,
     "hide_output_from_viewers":false
    }
   }
  },
  {
   "cell_type":"code",
   "source":[
    "df['JobInvolvement'].value_counts()"
   ],
   "execution_count":71,
   "outputs":[
    {
     "data":{
      "text\/html":[
       
      ]
     },
     "metadata":{
      
     },
     "output_type":"display_data"
    }
   ],
   "metadata":{
    "datalore":{
     "type":"CODE",
     "hide_input_from_viewers":false,
     "hide_output_from_viewers":false
    }
   }
  },
  {
   "cell_type":"code",
   "source":[
    "from pandas.api.types import CategoricalDtype\n",
    "cats=['Low', 'Medium', 'High', 'Very High']\n",
    "cat_type = CategoricalDtype(categories=cats, ordered=True)\n",
    "df['JobInvolvement'] = df['JobInvolvement'].astype(cat_type)\n",
    "\n",
    "df['JobInvolvement'].value_counts(sort=False).plot(kind='barh', title='JobInvolvement')"
   ],
   "execution_count":64,
   "outputs":[
    {
     "data":{
      "text\/plain":[
       "<AxesSubplot:title={'center':'JobInvolvement'}>"
      ],
      "image\/png":"[encoded data removed]"
     },
     "metadata":{
      "image\/png":{
       
      }
     },
     "output_type":"display_data"
    }
   ],
   "metadata":{
    "datalore":{
     "type":"CODE",
     "hide_input_from_viewers":false,
     "hide_output_from_viewers":false
    }
   }
  },
  {
   "cell_type":"code",
   "source":[
    "df['JobInvolvement']== 'low'\n",
    "df.loc[df['JobInvolvement'] == 'Low'].index\n",
    "subset_of_interest = df.loc[(df['JobInvolvement'] == \"Low\") | (df['JobInvolvement'] == \"High\")]\n",
    "subset_of_interest.head()"
   ],
   "execution_count":76,
   "outputs":[
    {
     "data":{
      "text\/html":[
       "<div>\n",
       "<style scoped>\n",
       "    .dataframe tbody tr th:only-of-type {\n",
       "        vertical-align: middle;\n",
       "    }\n",
       "\n",
       "    .dataframe tbody tr th {\n",
       "        vertical-align: top;\n",
       "    }\n",
       "\n",
       "    .dataframe thead th {\n",
       "        text-align: right;\n",
       "    }\n",
       "<\/style>\n",
       "<table border=\"1\" class=\"dataframe\">\n",
       "  <thead>\n",
       "    <tr style=\"text-align: right;\">\n",
       "      <th><\/th>\n",
       "      <th>Sex<\/th>\n",
       "      <th>Status<\/th>\n",
       "      <th>Ncount Employeess<\/th>\n",
       "      <th>Rate\/Day<\/th>\n",
       "      <th>Rate\/hour<\/th>\n",
       "      <th>Salary<\/th>\n",
       "      <th>Income Rate<\/th>\n",
       "      <th>Salary Inc. Percentage<\/th>\n",
       "      <th>Distance from home<\/th>\n",
       "      <th>Learning level<\/th>\n",
       "      <th>...<\/th>\n",
       "      <th>JobSatisfaction<\/th>\n",
       "      <th>No. of previous works<\/th>\n",
       "      <th>Spend Overtime<\/th>\n",
       "      <th>Rating of performance<\/th>\n",
       "      <th>StandardHours<\/th>\n",
       "      <th>StockOptionLevel<\/th>\n",
       "      <th>YearsWorkedTotal<\/th>\n",
       "      <th>TimesTrained<\/th>\n",
       "      <th>YearsSpentAtWork<\/th>\n",
       "      <th>YearsInCurrentJob<\/th>\n",
       "    <\/tr>\n",
       "  <\/thead>\n",
       "  <tbody>\n",
       "  <\/tbody>\n",
       "<\/table>\n",
       "<p>0 rows × 22 columns<\/p>\n",
       "<\/div>"
      ]
     },
     "metadata":{
      
     },
     "output_type":"display_data"
    }
   ],
   "metadata":{
    "datalore":{
     "type":"CODE",
     "hide_input_from_viewers":false,
     "hide_output_from_viewers":false
    }
   }
  },
  {
   "cell_type":"code",
   "source":[
    "\n",
    "grouped['Status'].value_counts().unstack().plot(kind=\"barh\")"
   ],
   "execution_count":68,
   "outputs":[
    {
     "data":{
      "text\/plain":[
       "<AxesSubplot:ylabel='JobInvolvement'>"
      ],
      "image\/png":"[encoded data removed]"
     },
     "metadata":{
      "image\/png":{
       
      }
     },
     "output_type":"display_data"
    }
   ],
   "metadata":{
    "datalore":{
     "type":"CODE",
     "hide_input_from_viewers":false,
     "hide_output_from_viewers":false
    }
   }
  },
  {
   "cell_type":"code",
   "source":[
    "grouped['Sex'].value_counts().unstack().plot(kind=\"barh\")"
   ],
   "execution_count":69,
   "outputs":[
    {
     "data":{
      "text\/plain":[
       "<AxesSubplot:ylabel='JobInvolvement'>"
      ],
      "image\/png":"[encoded data removed]"
     },
     "metadata":{
      "image\/png":{
       
      }
     },
     "output_type":"display_data"
    }
   ],
   "metadata":{
    "datalore":{
     "type":"CODE",
     "hide_input_from_viewers":false,
     "hide_output_from_viewers":false
    }
   }
  },
  {
   "cell_type":"code",
   "source":[
    "grouped['Learning level'].value_counts().unstack().plot(kind=\"barh\")"
   ],
   "execution_count":70,
   "outputs":[
    {
     "data":{
      "text\/plain":[
       "<AxesSubplot:ylabel='JobInvolvement'>"
      ],
      "image\/png":"[encoded data removed]"
     },
     "metadata":{
      "image\/png":{
       
      }
     },
     "output_type":"display_data"
    }
   ],
   "metadata":{
    "datalore":{
     "type":"CODE",
     "hide_input_from_viewers":false,
     "hide_output_from_viewers":false
    }
   }
  },
  {
   "cell_type":"code",
   "source":[
    "grouped['Learning level'].plot(kind='density', title='Learning level')"
   ],
   "execution_count":71,
   "outputs":[
    {
     "data":{
      "text\/html":[
       
      ],
      "image\/png":"[encoded data removed]"
     },
     "metadata":{
      "image\/png":{
       
      }
     },
     "output_type":"display_data"
    }
   ],
   "metadata":{
    "datalore":{
     "type":"CODE",
     "hide_input_from_viewers":false,
     "hide_output_from_viewers":false
    }
   }
  }
 ],
 "metadata":{
  "datalore":{
   "version":1,
   "computation_mode":"JUPYTER",
   "packages":[
    
   ]
  }
 },
 "nbformat":4,
 "nbformat_minor":4
}